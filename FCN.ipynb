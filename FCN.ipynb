{
  "nbformat": 4,
  "nbformat_minor": 0,
  "metadata": {
    "colab": {
      "name": "FCN.ipynb",
      "provenance": [],
      "collapsed_sections": [],
      "authorship_tag": "ABX9TyPNqYFJNJGLvqt0zfD52p0A",
      "include_colab_link": true
    },
    "kernelspec": {
      "name": "python3",
      "display_name": "Python 3"
    },
    "language_info": {
      "name": "python"
    }
  },
  "cells": [
    {
      "cell_type": "markdown",
      "metadata": {
        "id": "view-in-github",
        "colab_type": "text"
      },
      "source": [
        "<a href=\"https://colab.research.google.com/github/engineerJPark/FCN_Implementation/blob/main/FCN.ipynb\" target=\"_parent\"><img src=\"https://colab.research.google.com/assets/colab-badge.svg\" alt=\"Open In Colab\"/></a>"
      ]
    },
    {
      "cell_type": "markdown",
      "source": [
        "# TODO\n",
        "\n",
        "- https://pytorch.org/tutorials/beginner/basics/data_tutorial.html \n",
        "- https://pytorch.org/tutorials/beginner/basics/data_tutorial.html\n",
        "- https://blog.promedius.ai/pytorch_dataloader_1/\n",
        "\n",
        "\n",
        "- inplace error 처리\n",
        "\n",
        "\n",
        "\n",
        "\n"
      ],
      "metadata": {
        "id": "9UfbPl0sNqoI"
      }
    },
    {
      "cell_type": "code",
      "execution_count": 1,
      "metadata": {
        "id": "G6jBAYOT35FG",
        "colab": {
          "base_uri": "https://localhost:8080/"
        },
        "outputId": "585bd605-ade3-4044-d119-fc0f51c57e9f"
      },
      "outputs": [
        {
          "output_type": "stream",
          "name": "stdout",
          "text": [
            "Turn Off the inplace operation\n",
            ".\n",
            ".\n",
            ".\n",
            "Done.\n"
          ]
        }
      ],
      "source": [
        "import numpy as np\n",
        "import copy\n",
        "import torch\n",
        "import torch.nn as nn\n",
        "import torch.nn.functional as F\n",
        "import torch.optim as optim\n",
        "import torchvision\n",
        "from torchvision import transforms\n",
        "from torchvision.transforms.functional import InterpolationMode\n",
        "from torchvision.models import resnet18, ResNet18_Weights\n",
        "\n",
        "from torch.utils.data import DataLoader\n",
        "from torch.utils.data import sampler\n",
        "import torchvision.datasets as dset\n",
        "\n",
        "\n",
        "# for plotting\n",
        "import matplotlib.pyplot as plt\n",
        "%matplotlib inline\n",
        "plt.rcParams['figure.figsize'] = (8.0, 8.0) # set default size of plots\n",
        "plt.rcParams['image.interpolation'] = 'nearest'\n",
        "# plt.rcParams['image.cmap'] = 'gray'\n",
        "\n",
        "import collections\n",
        "import PIL\n",
        "import os\n",
        "\n",
        "\n",
        "if torch.cuda.is_available():\n",
        "  device = torch.device('cuda:0')\n",
        "else:\n",
        "  device = torch.device('cpu')\n",
        "\n",
        "torch.manual_seed(1)\n",
        "if device == 'cuda:0':\n",
        "    torch.cuda.manual_seed_all(1)"
      ]
    },
    {
      "cell_type": "code",
      "source": [
        "resnet_pretrained = resnet18(weights=ResNet18_Weights.DEFAULT)\n",
        "# print(resnet_pretrained)\n",
        "\n",
        "print('Turn Off the inplace operation')\n",
        "print('.')\n",
        "print('.')\n",
        "print('.')\n",
        "\n",
        "for name, child in resnet_pretrained.named_children():\n",
        "    if isinstance(child, nn.ReLU):\n",
        "        resnet_pretrained._modules[name] = nn.ReLU(inplace=False)\n",
        "    elif isinstance(child, nn.Sequential):\n",
        "        for sname, schild in child.named_children():\n",
        "            for ssname, sschild in schild.named_children():\n",
        "              if isinstance(sschild, nn.ReLU):\n",
        "                  # print(name,sname,ssname)\n",
        "                  resnet_pretrained._modules[name]._modules[sname]._modules[ssname] = nn.ReLU(inplace=False)\n",
        "\n",
        "# print('--------------------------------')\n",
        "# print('--------------------------------')\n",
        "# print(resnet_pretrained)\n",
        "\n",
        "print('Done.')\n",
        "\n",
        "# torch.autograd.set_detect_anomaly(True)"
      ],
      "metadata": {
        "id": "snc4SiS9n5LD"
      },
      "execution_count": null,
      "outputs": []
    },
    {
      "cell_type": "code",
      "source": [
        "from google.colab import drive\n",
        "drive.mount('/content/gdrive')\n",
        "ROOT_DIR = '/content/gdrive/MyDrive/voc_data'"
      ],
      "metadata": {
        "colab": {
          "base_uri": "https://localhost:8080/"
        },
        "id": "Z26GeXLfDTIq",
        "outputId": "5012cd12-f92f-47af-e7aa-359cca0528fc"
      },
      "execution_count": 2,
      "outputs": [
        {
          "output_type": "stream",
          "name": "stdout",
          "text": [
            "Drive already mounted at /content/gdrive; to attempt to forcibly remount, call drive.mount(\"/content/gdrive\", force_remount=True).\n"
          ]
        }
      ]
    },
    {
      "cell_type": "code",
      "source": [
        "class VOCClassSegBase(torch.utils.data.Dataset):\n",
        "\n",
        "    class_names = np.array([\n",
        "        'background',\n",
        "        'aeroplane',\n",
        "        'bicycle',\n",
        "        'bird',\n",
        "        'boat',\n",
        "        'bottle',\n",
        "        'bus',\n",
        "        'car',\n",
        "        'cat',\n",
        "        'chair',\n",
        "        'cow',\n",
        "        'diningtable',\n",
        "        'dog',\n",
        "        'horse',\n",
        "        'motorbike',\n",
        "        'person',\n",
        "        'potted plant',\n",
        "        'sheep',\n",
        "        'sofa',\n",
        "        'train',\n",
        "        'tv/monitor',\n",
        "    ])\n",
        "\n",
        "    def __init__(self, root='/content/gdrive/MyDrive/voc_data', split='train', transform_tf=True):\n",
        "        self.root = root\n",
        "        self.split = split\n",
        "        self.transform_tf = transform_tf\n",
        "        self.transform = transforms.Compose([\n",
        "            transforms.Resize((320,320), interpolation=InterpolationMode.NEAREST),\n",
        "            transforms.Normalize(mean=(0, 0, 0), std=(255., 255., 255.)),\n",
        "            transforms.Normalize(mean=(0.485, 0.456, 0.406), std=(0.229, 0.224, 0.225))\n",
        "        ])\n",
        "        self.transform_lbl = transforms.Compose([\n",
        "            transforms.Resize((320,320), interpolation=InterpolationMode.NEAREST)\n",
        "        ])\n",
        "\n",
        "        dataset_dir = os.path.join(self.root, 'VOCdevkit/VOC2012')\n",
        "        self.files = collections.defaultdict(list)\n",
        "        for split in ['train', 'val']:\n",
        "            imgsets_file = os.path.join(\n",
        "                dataset_dir, 'ImageSets/Segmentation/%s.txt' % split)\n",
        "            for did in open(imgsets_file):\n",
        "                did = did.strip()\n",
        "                img_file = os.path.join(dataset_dir, 'JPEGImages/%s.jpg' % did)\n",
        "                lbl_file = os.path.join(\n",
        "                    dataset_dir, 'SegmentationClass/%s.png' % did)\n",
        "                self.files[split].append({\n",
        "                    'img': img_file,\n",
        "                    'lbl': lbl_file,\n",
        "                })\n",
        "\n",
        "    def __len__(self):\n",
        "        return len(self.files[self.split])\n",
        "\n",
        "    def __getitem__(self, index):\n",
        "        # data file\n",
        "        data_file = self.files[self.split][index]\n",
        "        \n",
        "        # load\n",
        "        img_file = data_file['img']\n",
        "        img = PIL.Image.open(img_file)\n",
        "        img = torch.from_numpy(np.array(img)).float()\n",
        "\n",
        "        lbl_file = data_file['lbl']\n",
        "        lbl = PIL.Image.open(lbl_file)\n",
        "        lbl = torch.from_numpy(np.array(lbl)).int()\n",
        "        lbl = torch.unsqueeze(lbl, dim=0)\n",
        "\n",
        "        # image preprocessing\n",
        "        img = img.permute(2, 0, 1) # HWC -> CHW\n",
        "        lbl[lbl == 255] = -1\n",
        "        \n",
        "        # print('img shape', img.shape)\n",
        "        # print('lbl shape', lbl.shape)\n",
        "        if self.transform_tf == True:\n",
        "            return self.transform(img), self.transform_lbl(lbl) # lbl 부분이 문제\n",
        "            # return self.transform(img), lbl\n",
        "        else:\n",
        "            return img, lbl\n",
        "\n",
        "\n",
        "train_data = VOCClassSegBase(root=ROOT_DIR, split='train', transform_tf=True)\n",
        "\n",
        "train_data_loader = DataLoader(dataset=train_data, batch_size = 1,\n",
        "                               drop_last=True)"
      ],
      "metadata": {
        "id": "86onqLojXqMd"
      },
      "execution_count": 3,
      "outputs": []
    },
    {
      "cell_type": "code",
      "source": [
        "# Bilinear weights deconvolution Algorithm 알아보기\n",
        "def bilinear_kernel_init(Cin, Cout, kernel_size):\n",
        "  factor = (kernel_size + 1) // 2\n",
        "  if kernel_size % 2 == 1:\n",
        "    center = (kernel_size + 1) // 2 - 1\n",
        "  else:\n",
        "    center = (kernel_size + 1) // 2 - 0.5\n",
        "\n",
        "  og = (torch.arange(kernel_size).reshape(-1,1), torch.arange(kernel_size).reshape(1,-1))\n",
        "  filter = (1 - torch.abs(og[0] - center) / factor) * (1 - torch.abs(og[1] - center) / factor)\n",
        "\n",
        "  weight = torch.zeros((Cin, Cout, kernel_size, kernel_size))\n",
        "  weight[range(Cin), range(Cout), :, :] = filter\n",
        "  return weight"
      ],
      "metadata": {
        "id": "C-iNBBNGc1lr"
      },
      "execution_count": 4,
      "outputs": []
    },
    {
      "cell_type": "code",
      "source": [
        "class FCN18(nn.Module):\n",
        "  def __init__(self, class_n): # class 20 + 1(bakcground)\n",
        "    super().__init__()\n",
        "    self.downsample1 = nn.Sequential( # 1/2 of the input\n",
        "        resnet_pretrained.conv1,\n",
        "        resnet_pretrained.bn1,\n",
        "        resnet_pretrained.relu,\n",
        "        resnet_pretrained.maxpool\n",
        "    )\n",
        "    self.downsample2 = resnet_pretrained.layer1 # 1/4 of the input\n",
        "    self.downsample3 = resnet_pretrained.layer2 # 1/8 of the input, 여기서 1x1 거친것 하나 추출\n",
        "    self.downsample4 = resnet_pretrained.layer3 # 1/16 of the input, 여기서 1x1 거친것 하나 추출\n",
        "    self.downsample5 = resnet_pretrained.layer4 # 1/32 of the input, 여기서 1x1 거친것 하나 추출\n",
        "\n",
        "    self.fully_conv_pool3 = nn.Conv2d(128, class_n, kernel_size=1) # get class score for each pixel\n",
        "    nn.init.xavier_normal_(self.fully_conv_pool3.weight)\n",
        "\n",
        "    self.fully_conv_pool4 = nn.Conv2d(256, class_n, kernel_size=1) # get class score for each pixel\n",
        "    nn.init.xavier_normal_(self.fully_conv_pool4.weight)\n",
        "\n",
        "    self.fully_conv_pool5 = nn.Conv2d(512, class_n, kernel_size=1) # get class score for each pixel\n",
        "    nn.init.xavier_normal_(self.fully_conv_pool5.weight)\n",
        "    \n",
        "    # 보통 stride s, padding s/2, kernelsize 2s -> s배 만큼 이미지가 커진다.\n",
        "    self.upsample_make_16s = nn.ConvTranspose2d(class_n, class_n, kernel_size=4, padding=1, stride=2, bias=False) # to 1/16\n",
        "    self.upsample_make_16s.weight.data.copy_(bilinear_kernel_init(class_n, class_n, 4))\n",
        "\n",
        "    self.upsample_make_8s = nn.ConvTranspose2d(class_n, class_n, kernel_size=4, padding=1, stride=2, bias=False) # to 1/8\n",
        "    self.upsample_make_8s.weight.data.copy_(bilinear_kernel_init(class_n, class_n, 4))\n",
        "    \n",
        "    self.upsample_to_score = nn.ConvTranspose2d(class_n, class_n, kernel_size=16, padding=4, stride=8) # to 1\n",
        "    self.upsample_to_score.weight.data.copy_(bilinear_kernel_init(class_n, class_n, 16))\n",
        "    for param in self.upsample_to_score.parameters(): # freeze the last layer\n",
        "      param.requires_grad = False\n",
        "\n",
        "\n",
        "  def forward(self, x):\n",
        "\n",
        "    x = self.downsample1(x).clone()\n",
        "    x = self.downsample2(x).clone()\n",
        "    x = self.downsample3(x).clone()\n",
        "    pool3_score = self.fully_conv_pool3(x)\n",
        "    x = self.downsample4(x).clone()\n",
        "    pool4_score = self.fully_conv_pool4(x)\n",
        "    x = self.downsample5(x).clone()\n",
        "    pool5_score = self.fully_conv_pool5(x)\n",
        "\n",
        "    pool4_2x_conv7 = pool4_score + self.upsample_make_16s(pool5_score)\n",
        "    pool3_2x_pool4_4x_conv7 = pool3_score + self.upsample_make_8s(pool4_2x_conv7) # error log occured\n",
        "    out = self.upsample_to_score(pool3_2x_pool4_4x_conv7)\n",
        "\n",
        "    return out"
      ],
      "metadata": {
        "id": "SSp7WMlbCOdb"
      },
      "execution_count": 5,
      "outputs": []
    },
    {
      "cell_type": "code",
      "source": [
        "epochs = 10\n",
        "lr = 10e-4\n",
        "weight_decay = 2e-4\n",
        "momentum = 0.9\n",
        "batch_size = 64\n",
        "\n",
        "model = FCN18(21)\n",
        "optimizer = optim.SGD(model.parameters(), lr=lr, momentum=momentum, weight_decay=weight_decay)\n",
        "criterion = nn.CrossEntropyLoss(ignore_index=-1)"
      ],
      "metadata": {
        "id": "duCh3xvTs8rE"
      },
      "execution_count": 6,
      "outputs": []
    },
    {
      "cell_type": "code",
      "source": [
        "# train code\n",
        "def train(model, epochs, optimizer, criterion):\n",
        "  # with torch.autograd.detect_anomaly():\n",
        "  for epoch in range(epochs):\n",
        "    for train_img, train_gt_img in train_data_loader:\n",
        "      \n",
        "      train_img = train_img.to(device).to(torch.float)\n",
        "      train_gt_img = train_gt_img.squeeze(dim=1).to(device).to(torch.long)\n",
        "\n",
        "      # print('train_gt_img.shape:', train_gt_img.shape)\n",
        "\n",
        "      score_img = model(train_img)\n",
        "      score_img = score_img.permute(0,2,3,1).reshape(-1, score_img.shape[1])\n",
        "      train_gt_img = train_gt_img.reshape(-1, )\n",
        "\n",
        "      # print('score_img.shape:', score_img.shape)\n",
        "      # print('train_gt_img.shape:', train_gt_img.shape)\n",
        "\n",
        "      loss = criterion(score_img, train_gt_img)\n",
        "\n",
        "      optimizer.zero_grad()\n",
        "      optimizer.step()\n",
        "      loss.backward()\n",
        "\n",
        "    print(\"epoch %d, loss : %f \"%(epoch + 1, loss))\n",
        "  print(\"Training End\")\n",
        "\n",
        "train(model, epochs, optimizer, criterion)"
      ],
      "metadata": {
        "id": "e6YIvDDO_boV",
        "colab": {
          "base_uri": "https://localhost:8080/",
          "height": 382
        },
        "outputId": "95b9c5d1-7d12-4392-eec2-69ac1e3548d6"
      },
      "execution_count": 7,
      "outputs": [
        {
          "output_type": "error",
          "ename": "RuntimeError",
          "evalue": "ignored",
          "traceback": [
            "\u001b[0;31m---------------------------------------------------------------------------\u001b[0m",
            "\u001b[0;31mRuntimeError\u001b[0m                              Traceback (most recent call last)",
            "\u001b[0;32m<ipython-input-7-75b0ec6f07e5>\u001b[0m in \u001b[0;36m<module>\u001b[0;34m()\u001b[0m\n\u001b[1;32m     26\u001b[0m   \u001b[0mprint\u001b[0m\u001b[0;34m(\u001b[0m\u001b[0;34m\"Training End\"\u001b[0m\u001b[0;34m)\u001b[0m\u001b[0;34m\u001b[0m\u001b[0;34m\u001b[0m\u001b[0m\n\u001b[1;32m     27\u001b[0m \u001b[0;34m\u001b[0m\u001b[0m\n\u001b[0;32m---> 28\u001b[0;31m \u001b[0mtrain\u001b[0m\u001b[0;34m(\u001b[0m\u001b[0mmodel\u001b[0m\u001b[0;34m,\u001b[0m \u001b[0mepochs\u001b[0m\u001b[0;34m,\u001b[0m \u001b[0moptimizer\u001b[0m\u001b[0;34m,\u001b[0m \u001b[0mcriterion\u001b[0m\u001b[0;34m)\u001b[0m\u001b[0;34m\u001b[0m\u001b[0;34m\u001b[0m\u001b[0m\n\u001b[0m",
            "\u001b[0;32m<ipython-input-7-75b0ec6f07e5>\u001b[0m in \u001b[0;36mtrain\u001b[0;34m(model, epochs, optimizer, criterion)\u001b[0m\n\u001b[1;32m     21\u001b[0m       \u001b[0moptimizer\u001b[0m\u001b[0;34m.\u001b[0m\u001b[0mzero_grad\u001b[0m\u001b[0;34m(\u001b[0m\u001b[0;34m)\u001b[0m\u001b[0;34m\u001b[0m\u001b[0;34m\u001b[0m\u001b[0m\n\u001b[1;32m     22\u001b[0m       \u001b[0moptimizer\u001b[0m\u001b[0;34m.\u001b[0m\u001b[0mstep\u001b[0m\u001b[0;34m(\u001b[0m\u001b[0;34m)\u001b[0m\u001b[0;34m\u001b[0m\u001b[0;34m\u001b[0m\u001b[0m\n\u001b[0;32m---> 23\u001b[0;31m       \u001b[0mloss\u001b[0m\u001b[0;34m.\u001b[0m\u001b[0mbackward\u001b[0m\u001b[0;34m(\u001b[0m\u001b[0;34m)\u001b[0m\u001b[0;34m\u001b[0m\u001b[0;34m\u001b[0m\u001b[0m\n\u001b[0m\u001b[1;32m     24\u001b[0m \u001b[0;34m\u001b[0m\u001b[0m\n\u001b[1;32m     25\u001b[0m     \u001b[0mprint\u001b[0m\u001b[0;34m(\u001b[0m\u001b[0;34m\"epoch %d, loss : %f \"\u001b[0m\u001b[0;34m%\u001b[0m\u001b[0;34m(\u001b[0m\u001b[0mepoch\u001b[0m \u001b[0;34m+\u001b[0m \u001b[0;36m1\u001b[0m\u001b[0;34m,\u001b[0m \u001b[0mloss\u001b[0m\u001b[0;34m)\u001b[0m\u001b[0;34m)\u001b[0m\u001b[0;34m\u001b[0m\u001b[0;34m\u001b[0m\u001b[0m\n",
            "\u001b[0;32m/usr/local/lib/python3.7/dist-packages/torch/_tensor.py\u001b[0m in \u001b[0;36mbackward\u001b[0;34m(self, gradient, retain_graph, create_graph, inputs)\u001b[0m\n\u001b[1;32m    394\u001b[0m                 \u001b[0mcreate_graph\u001b[0m\u001b[0;34m=\u001b[0m\u001b[0mcreate_graph\u001b[0m\u001b[0;34m,\u001b[0m\u001b[0;34m\u001b[0m\u001b[0;34m\u001b[0m\u001b[0m\n\u001b[1;32m    395\u001b[0m                 inputs=inputs)\n\u001b[0;32m--> 396\u001b[0;31m         \u001b[0mtorch\u001b[0m\u001b[0;34m.\u001b[0m\u001b[0mautograd\u001b[0m\u001b[0;34m.\u001b[0m\u001b[0mbackward\u001b[0m\u001b[0;34m(\u001b[0m\u001b[0mself\u001b[0m\u001b[0;34m,\u001b[0m \u001b[0mgradient\u001b[0m\u001b[0;34m,\u001b[0m \u001b[0mretain_graph\u001b[0m\u001b[0;34m,\u001b[0m \u001b[0mcreate_graph\u001b[0m\u001b[0;34m,\u001b[0m \u001b[0minputs\u001b[0m\u001b[0;34m=\u001b[0m\u001b[0minputs\u001b[0m\u001b[0;34m)\u001b[0m\u001b[0;34m\u001b[0m\u001b[0;34m\u001b[0m\u001b[0m\n\u001b[0m\u001b[1;32m    397\u001b[0m \u001b[0;34m\u001b[0m\u001b[0m\n\u001b[1;32m    398\u001b[0m     \u001b[0;32mdef\u001b[0m \u001b[0mregister_hook\u001b[0m\u001b[0;34m(\u001b[0m\u001b[0mself\u001b[0m\u001b[0;34m,\u001b[0m \u001b[0mhook\u001b[0m\u001b[0;34m)\u001b[0m\u001b[0;34m:\u001b[0m\u001b[0;34m\u001b[0m\u001b[0;34m\u001b[0m\u001b[0m\n",
            "\u001b[0;32m/usr/local/lib/python3.7/dist-packages/torch/autograd/__init__.py\u001b[0m in \u001b[0;36mbackward\u001b[0;34m(tensors, grad_tensors, retain_graph, create_graph, grad_variables, inputs)\u001b[0m\n\u001b[1;32m    173\u001b[0m     Variable._execution_engine.run_backward(  # Calls into the C++ engine to run the backward pass\n\u001b[1;32m    174\u001b[0m         \u001b[0mtensors\u001b[0m\u001b[0;34m,\u001b[0m \u001b[0mgrad_tensors_\u001b[0m\u001b[0;34m,\u001b[0m \u001b[0mretain_graph\u001b[0m\u001b[0;34m,\u001b[0m \u001b[0mcreate_graph\u001b[0m\u001b[0;34m,\u001b[0m \u001b[0minputs\u001b[0m\u001b[0;34m,\u001b[0m\u001b[0;34m\u001b[0m\u001b[0;34m\u001b[0m\u001b[0m\n\u001b[0;32m--> 175\u001b[0;31m         allow_unreachable=True, accumulate_grad=True)  # Calls into the C++ engine to run the backward pass\n\u001b[0m\u001b[1;32m    176\u001b[0m \u001b[0;34m\u001b[0m\u001b[0m\n\u001b[1;32m    177\u001b[0m def grad(\n",
            "\u001b[0;31mRuntimeError\u001b[0m: one of the variables needed for gradient computation has been modified by an inplace operation: [torch.FloatTensor [21, 21, 4, 4]] is at version 2; expected version 1 instead. Hint: enable anomaly detection to find the operation that failed to compute its gradient, with torch.autograd.set_detect_anomaly(True)."
          ]
        }
      ]
    },
    {
      "cell_type": "code",
      "source": [
        "# segmentation : plot image\n",
        "\n",
        "with open(os.path.join(ROOT_DIR, \"VOCdevkit/VOC2012/ImageSets/Segmentation/val.txt\"), 'r') as f:\n",
        "  lines = f.readlines()\n",
        "for i in range(len(lines)):\n",
        "  lines[i] =  lines[i].strip('\\n')\n",
        "test_jpg = lines[0] + '.jpg'\n",
        "test_image = PIL.Image.open(os.path.join(ROOT_DIR, 'VOCdevkit/VOC2012', \"JPEGImages\", test_jpg))\n",
        "\n",
        "test_seg = model(test_image)\n",
        "\n",
        "plt.figure(figsize=(8, 8))\n",
        "plt.imshow(test_seg)\n",
        "plt.show()"
      ],
      "metadata": {
        "id": "vNECjHnq_j_O"
      },
      "execution_count": null,
      "outputs": []
    },
    {
      "cell_type": "code",
      "source": [
        "# validation IoU\n",
        "\n"
      ],
      "metadata": {
        "id": "6Nm-3lki_d_4"
      },
      "execution_count": null,
      "outputs": []
    },
    {
      "cell_type": "code",
      "source": [
        "# openset2voc \n",
        "\n"
      ],
      "metadata": {
        "id": "P30_LcvDbYxW"
      },
      "execution_count": null,
      "outputs": []
    }
  ]
}