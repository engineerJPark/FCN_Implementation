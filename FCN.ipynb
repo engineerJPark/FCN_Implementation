{
  "nbformat": 4,
  "nbformat_minor": 0,
  "metadata": {
    "colab": {
      "name": "FCN.ipynb",
      "provenance": [],
      "collapsed_sections": [],
      "authorship_tag": "ABX9TyNpGaJvnU6U1fVYJ4w+8wZr",
      "include_colab_link": true
    },
    "kernelspec": {
      "name": "python3",
      "display_name": "Python 3"
    },
    "language_info": {
      "name": "python"
    }
  },
  "cells": [
    {
      "cell_type": "markdown",
      "metadata": {
        "id": "view-in-github",
        "colab_type": "text"
      },
      "source": [
        "<a href=\"https://colab.research.google.com/github/engineerJPark/FCN_Implementation/blob/main/FCN.ipynb\" target=\"_parent\"><img src=\"https://colab.research.google.com/assets/colab-badge.svg\" alt=\"Open In Colab\"/></a>"
      ]
    },
    {
      "cell_type": "markdown",
      "source": [
        "# TODO\n",
        "\n",
        "https://pytorch.org/tutorials/beginner/basics/data_tutorial.html \n",
        "https://pytorch.org/tutorials/beginner/basics/data_tutorial.html\n",
        "https://blog.promedius.ai/pytorch_dataloader_1/\n",
        "\n",
        "- transform 처리\n",
        "  - Resize는 복원이 non bilinear하게 할 방법을 찾을 것, 아니라면 그냥 whole size 이용\n",
        "  - pooling 홀수도 잘 복원되게 하는 방법\n",
        "- image 크기 안줄이고 1 batch로 처리\n",
        "- dataset __getitem__() 수정\n",
        "  - 기존 코드 삭제하고 transform함수만 사용할 것\n",
        "\n"
      ],
      "metadata": {
        "id": "9UfbPl0sNqoI"
      }
    },
    {
      "cell_type": "code",
      "execution_count": 47,
      "metadata": {
        "id": "G6jBAYOT35FG",
        "colab": {
          "base_uri": "https://localhost:8080/"
        },
        "outputId": "937f58e2-99f8-493e-9655-d8d43d258f3b"
      },
      "outputs": [
        {
          "output_type": "stream",
          "name": "stdout",
          "text": [
            "Done.\n"
          ]
        }
      ],
      "source": [
        "import numpy as np\n",
        "import copy\n",
        "import torch\n",
        "import torch.nn as nn\n",
        "import torch.nn.functional as F\n",
        "import torch.optim as optim\n",
        "import torchvision\n",
        "from torchvision import transforms\n",
        "from torchvision.transforms.functional import InterpolationMode\n",
        "from torchvision.models import resnet18, ResNet18_Weights\n",
        "\n",
        "from torch.utils.data import DataLoader\n",
        "from torch.utils.data import sampler\n",
        "import torchvision.datasets as dset\n",
        "\n",
        "\n",
        "# for plotting\n",
        "import matplotlib.pyplot as plt\n",
        "%matplotlib inline\n",
        "plt.rcParams['figure.figsize'] = (10.0, 8.0) # set default size of plots\n",
        "plt.rcParams['image.interpolation'] = 'nearest'\n",
        "# plt.rcParams['image.cmap'] = 'gray'\n",
        "\n",
        "import collections\n",
        "import PIL\n",
        "import os\n",
        "\n",
        "\n",
        "if torch.cuda.is_available():\n",
        "  device = torch.device('cuda:0')\n",
        "else:\n",
        "  device = torch.device('cpu')\n",
        "\n",
        "torch.manual_seed(1)\n",
        "if device == 'cuda:0':\n",
        "    torch.cuda.manual_seed_all(1)\n",
        "\n",
        "resnet_pretrained = resnet18(weights=ResNet18_Weights.DEFAULT)\n",
        "print('Done.')"
      ]
    },
    {
      "cell_type": "code",
      "source": [
        "from google.colab import drive\n",
        "drive.mount('/content/gdrive')\n",
        "ROOT_DIR = '/content/gdrive/MyDrive/voc_data'"
      ],
      "metadata": {
        "colab": {
          "base_uri": "https://localhost:8080/"
        },
        "id": "Z26GeXLfDTIq",
        "outputId": "ca335c2d-d933-41c0-b95a-130924a2773d"
      },
      "execution_count": 48,
      "outputs": [
        {
          "output_type": "stream",
          "name": "stdout",
          "text": [
            "Drive already mounted at /content/gdrive; to attempt to forcibly remount, call drive.mount(\"/content/gdrive\", force_remount=True).\n"
          ]
        }
      ]
    },
    {
      "cell_type": "code",
      "source": [
        "# sample_img = PIL.Image.open(os.path.join(ROOT_DIR, 'VOCdevkit/VOC2012', 'JPEGImages/2007_000032.jpg'))\n",
        "# sample_img_np = np.array(sample_img)\n",
        "\n",
        "# print(sample_img_np.shape)\n",
        "\n",
        "# plt.figure(figsize=(8, 8))\n",
        "# plt.imshow(sample_img)\n",
        "# plt.show()\n",
        "\n",
        "# plt.figure(figsize=(8, 8))\n",
        "# plt.imshow(sample_img_np[:,:,0])\n",
        "# plt.show()\n",
        "\n",
        "# # sample_img_np = np.array(sample_img.convert('RGB'))\n",
        "\n",
        "# plt.figure(figsize=(8, 8))\n",
        "# plt.imshow(sample_img_np[:,:,2])\n",
        "# plt.show()"
      ],
      "metadata": {
        "id": "CvYDCvRFrTmx"
      },
      "execution_count": 49,
      "outputs": []
    },
    {
      "cell_type": "code",
      "source": [
        "# x = torch.randn((3, 281, 500), device=device ,dtype=torch.float)\n",
        "# pool = nn.MaxPool2d(2, stride=2)\n",
        "# out = pool(x)\n",
        "# print(out.shape)"
      ],
      "metadata": {
        "id": "JOwGgvDDxiwt"
      },
      "execution_count": 50,
      "outputs": []
    },
    {
      "cell_type": "code",
      "source": [
        "class VOCClassSegBase(torch.utils.data.Dataset):\n",
        "\n",
        "    class_names = np.array([\n",
        "        'background',\n",
        "        'aeroplane',\n",
        "        'bicycle',\n",
        "        'bird',\n",
        "        'boat',\n",
        "        'bottle',\n",
        "        'bus',\n",
        "        'car',\n",
        "        'cat',\n",
        "        'chair',\n",
        "        'cow',\n",
        "        'diningtable',\n",
        "        'dog',\n",
        "        'horse',\n",
        "        'motorbike',\n",
        "        'person',\n",
        "        'potted plant',\n",
        "        'sheep',\n",
        "        'sofa',\n",
        "        'train',\n",
        "        'tv/monitor',\n",
        "    ])\n",
        "\n",
        "    def __init__(self, root='/content/gdrive/MyDrive/voc_data', split='train', transform_tf=True):\n",
        "        self.root = root\n",
        "        self.split = split\n",
        "        self.transform_tf = transform_tf\n",
        "        self.transform = transforms.Compose([\n",
        "            transforms.Resize((320,320), interpolation=InterpolationMode.NEAREST),\n",
        "            transforms.Normalize(mean=(122.67891434, 116.66876762, 104.00698793), std=(255., 255., 255.))\n",
        "        ])\n",
        "        self.transform_lbl = transforms.Compose([\n",
        "            transforms.Resize((320,320), interpolation=InterpolationMode.NEAREST)\n",
        "        ])        \n",
        "\n",
        "        dataset_dir = os.path.join(self.root, 'VOCdevkit/VOC2012')\n",
        "        self.files = collections.defaultdict(list)\n",
        "        for split in ['train', 'val']:\n",
        "            imgsets_file = os.path.join(\n",
        "                dataset_dir, 'ImageSets/Segmentation/%s.txt' % split)\n",
        "            for did in open(imgsets_file):\n",
        "                did = did.strip()\n",
        "                img_file = os.path.join(dataset_dir, 'JPEGImages/%s.jpg' % did)\n",
        "                lbl_file = os.path.join(\n",
        "                    dataset_dir, 'SegmentationClass/%s.png' % did)\n",
        "                self.files[split].append({\n",
        "                    'img': img_file,\n",
        "                    'lbl': lbl_file,\n",
        "                })\n",
        "\n",
        "    def __len__(self):\n",
        "        return len(self.files[self.split])\n",
        "\n",
        "    def __getitem__(self, index):\n",
        "        # data file\n",
        "        data_file = self.files[self.split][index]\n",
        "        \n",
        "        # load\n",
        "        img_file = data_file['img']\n",
        "        img = PIL.Image.open(img_file)\n",
        "        img = torch.from_numpy(np.array(img)).float()\n",
        "\n",
        "        lbl_file = data_file['lbl']\n",
        "        lbl = PIL.Image.open(lbl_file)\n",
        "        lbl = torch.from_numpy(np.array(lbl))\n",
        "\n",
        "        # image preprocessing\n",
        "        img = img.transpose(2, 0, 1) # HWC -> CHW\n",
        "        lbl[lbl == 255] = -1.\n",
        "        \n",
        "        if self.transform_tf == True:\n",
        "            return self.transform(img), self.transform_lbl(lbl)\n",
        "        else:\n",
        "            return img, lbl\n",
        "\n",
        "\n",
        "train_data = VOCClassSegBase(root=ROOT_DIR, split='train', transform_tf=True)\n",
        "\n",
        "train_data_loader = DataLoader(dataset=train_data, batch_size = 1,\n",
        "                               drop_last=True)"
      ],
      "metadata": {
        "id": "86onqLojXqMd"
      },
      "execution_count": 51,
      "outputs": []
    },
    {
      "cell_type": "code",
      "source": [
        "# Bilinear weights deconvolution Algorithm 알아보기\n",
        "def bilinear_kernel_init(Cin, Cout, kernel_size):\n",
        "  factor = (kernel_size + 1) // 2\n",
        "  if kernel_size % 2 == 1:\n",
        "    center = (kernel_size + 1) // 2 - 1\n",
        "  else:\n",
        "    center = (kernel_size + 1) // 2 - 0.5\n",
        "\n",
        "  og = (torch.arange(kernel_size).reshape(-1,1), torch.arange(kernel_size).reshape(1,-1))\n",
        "  filter = (1 - torch.abs(og[0] - center) / factor) * (1 - torch.abs(og[1] - center) / factor)\n",
        "\n",
        "  weight = torch.zeros((Cin, Cout, kernel_size, kernel_size))\n",
        "  weight[range(Cin), range(Cout), :, :] = filter\n",
        "  return weight"
      ],
      "metadata": {
        "id": "C-iNBBNGc1lr"
      },
      "execution_count": 52,
      "outputs": []
    },
    {
      "cell_type": "code",
      "source": [
        "class FCN18(nn.Module):\n",
        "  def __init__(self, class_n): # class 20 + 1(bakcground)\n",
        "    super().__init__()\n",
        "    self.downsample1 = nn.Sequential( # 1/2 of the input\n",
        "        resnet_pretrained.conv1,\n",
        "        resnet_pretrained.bn1,\n",
        "        resnet_pretrained.relu,\n",
        "        resnet_pretrained.maxpool\n",
        "    )\n",
        "    self.downsample2 = resnet_pretrained.layer1 # 1/4 of the input\n",
        "    self.downsample3 = resnet_pretrained.layer2 # 1/8 of the input, 여기서 1x1 거친것 하나 추출\n",
        "    self.downsample4 = resnet_pretrained.layer3 # 1/16 of the input, 여기서 1x1 거친것 하나 추출\n",
        "    self.downsample5 = resnet_pretrained.layer4 # 1/32 of the input, 여기서 1x1 거친것 하나 추출\n",
        "\n",
        "    self.fully_conv_pool3 = nn.Conv2d(128, class_n, kernel_size=1) # get class score for each pixel\n",
        "    nn.init.xavier_normal_(self.fully_conv_pool3.weight)\n",
        "\n",
        "    self.fully_conv_pool4 = nn.Conv2d(256, class_n, kernel_size=1) # get class score for each pixel\n",
        "    nn.init.xavier_normal_(self.fully_conv_pool4.weight)\n",
        "\n",
        "    self.fully_conv_pool5 = nn.Conv2d(512, class_n, kernel_size=1) # get class score for each pixel\n",
        "    nn.init.xavier_normal_(self.fully_conv_pool5.weight)\n",
        "    \n",
        "    # 보통 stride s, padding s/2, kernelsize 2s -> s배 만큼 이미지가 커진다.\n",
        "    self.upsample_make_16s = nn.ConvTranspose2d(class_n, class_n, kernel_size=4, padding=1, stride=2, bias=False) # to 1/16\n",
        "    self.upsample_make_16s.weight.data.copy_(bilinear_kernel_init(class_n, class_n, 4))\n",
        "\n",
        "    self.upsample_make_8s = nn.ConvTranspose2d(class_n, class_n, kernel_size=4, padding=1, stride=2, bias=False) # to 1/8\n",
        "    self.upsample_make_8s.weight.data.copy_(bilinear_kernel_init(class_n, class_n, 4))\n",
        "    \n",
        "    self.upsample_to_score = nn.ConvTranspose2d(class_n, class_n, kernel_size=16, padding=4, stride=8) # to 1\n",
        "    self.upsample_to_score.weight.data.copy_(bilinear_kernel_init(class_n, class_n, 16))\n",
        "    for param in self.upsample_to_score.parameters(): # freeze the last layer\n",
        "      param.requires_grad = False\n",
        "\n",
        "\n",
        "  def forward(self, x):\n",
        "    x = self.downsample1(x)\n",
        "    x = self.downsample2(x)\n",
        "    x = self.downsample3(x)\n",
        "    pool3_score = self.fully_conv_pool3(x)\n",
        "    x = self.downsample4(x)\n",
        "    pool4_score = self.fully_conv_pool4(x)\n",
        "    x = self.downsample5(x)\n",
        "    pool5_score = self.fully_conv_pool5(x)\n",
        "\n",
        "    pool4_2x_conv7 = pool4_score + self.upsample_make_16s(pool5_score)\n",
        "    pool3_2x_pool4_4x_conv7 = pool3_score + self.upsample_make_8s(pool4_2x_conv7)\n",
        "\n",
        "    out = self.upsample_to_score(pool3_2x_pool4_4x_conv7)\n",
        "\n",
        "    return out"
      ],
      "metadata": {
        "id": "SSp7WMlbCOdb"
      },
      "execution_count": 53,
      "outputs": []
    },
    {
      "cell_type": "code",
      "source": [
        "epochs = 10\n",
        "lr = 10e-4\n",
        "weight_decay = 2e-4\n",
        "momentum = 0.9\n",
        "batch_size = 64\n",
        "\n",
        "model = FCN18(3)\n",
        "optimizer = optim.SGD(model.parameters(), lr=lr, momentum=momentum, weight_decay=weight_decay)\n",
        "criterion = nn.CrossEntropyLoss(ignore_index= 255)"
      ],
      "metadata": {
        "id": "duCh3xvTs8rE"
      },
      "execution_count": 54,
      "outputs": []
    },
    {
      "cell_type": "code",
      "source": [
        "# train code\n",
        "def train(model, epochs, optimizer, criterion):\n",
        "  for epoch in range(epochs):\n",
        "    for train_img, train_gt_img in train_data_loader:\n",
        "      N, C, H, W = train_img.shape\n",
        "      print('train_img.shape:', N, C, H, W)\n",
        "      print('train_gt_img.shape:', train_gt_img.shape)\n",
        "      # print(train_gt_img[0][0][150][150])\n",
        "\n",
        "      N_t, H_t, W_t = train_gt_img.shape\n",
        "      \n",
        "      train_img = train_img.to(device)\n",
        "      train_gt_img = train_gt_img.to(device)\n",
        "\n",
        "      score_img = model(train_img.to(torch.float))\n",
        "      score_img.permute(0,2,3,1).reshape(N*H*W, C)\n",
        "      train_gt_img.reshape(N_t*H_t*W_t,)\n",
        "\n",
        "      loss = criterion(score_img, train_gt_img)\n",
        "\n",
        "      optimizer.zero_grad()\n",
        "      optimizer.step()\n",
        "      loss.backward()\n",
        "\n",
        "    print(\"epoch %d, loss : %f \"%(epoch + 1, loss))\n",
        "  print(\"Training End\")\n",
        "\n",
        "train(model, epochs, optimizer, criterion)"
      ],
      "metadata": {
        "id": "e6YIvDDO_boV",
        "colab": {
          "base_uri": "https://localhost:8080/",
          "height": 1000
        },
        "outputId": "57607cf5-ab71-46b8-fffc-7904d5842aeb"
      },
      "execution_count": 55,
      "outputs": [
        {
          "output_type": "error",
          "ename": "TypeError",
          "evalue": "ignored",
          "traceback": [
            "\u001b[0;31m---------------------------------------------------------------------------\u001b[0m",
            "\u001b[0;31mTypeError\u001b[0m                                 Traceback (most recent call last)",
            "\u001b[0;32m<ipython-input-55-e133676f029d>\u001b[0m in \u001b[0;36m<module>\u001b[0;34m()\u001b[0m\n\u001b[1;32m     26\u001b[0m   \u001b[0mprint\u001b[0m\u001b[0;34m(\u001b[0m\u001b[0;34m\"Training End\"\u001b[0m\u001b[0;34m)\u001b[0m\u001b[0;34m\u001b[0m\u001b[0;34m\u001b[0m\u001b[0m\n\u001b[1;32m     27\u001b[0m \u001b[0;34m\u001b[0m\u001b[0m\n\u001b[0;32m---> 28\u001b[0;31m \u001b[0mtrain\u001b[0m\u001b[0;34m(\u001b[0m\u001b[0mmodel\u001b[0m\u001b[0;34m,\u001b[0m \u001b[0mepochs\u001b[0m\u001b[0;34m,\u001b[0m \u001b[0moptimizer\u001b[0m\u001b[0;34m,\u001b[0m \u001b[0mcriterion\u001b[0m\u001b[0;34m)\u001b[0m\u001b[0;34m\u001b[0m\u001b[0;34m\u001b[0m\u001b[0m\n\u001b[0m",
            "\u001b[0;32m<ipython-input-55-e133676f029d>\u001b[0m in \u001b[0;36mtrain\u001b[0;34m(model, epochs, optimizer, criterion)\u001b[0m\n\u001b[1;32m      2\u001b[0m \u001b[0;32mdef\u001b[0m \u001b[0mtrain\u001b[0m\u001b[0;34m(\u001b[0m\u001b[0mmodel\u001b[0m\u001b[0;34m,\u001b[0m \u001b[0mepochs\u001b[0m\u001b[0;34m,\u001b[0m \u001b[0moptimizer\u001b[0m\u001b[0;34m,\u001b[0m \u001b[0mcriterion\u001b[0m\u001b[0;34m)\u001b[0m\u001b[0;34m:\u001b[0m\u001b[0;34m\u001b[0m\u001b[0;34m\u001b[0m\u001b[0m\n\u001b[1;32m      3\u001b[0m   \u001b[0;32mfor\u001b[0m \u001b[0mepoch\u001b[0m \u001b[0;32min\u001b[0m \u001b[0mrange\u001b[0m\u001b[0;34m(\u001b[0m\u001b[0mepochs\u001b[0m\u001b[0;34m)\u001b[0m\u001b[0;34m:\u001b[0m\u001b[0;34m\u001b[0m\u001b[0;34m\u001b[0m\u001b[0m\n\u001b[0;32m----> 4\u001b[0;31m     \u001b[0;32mfor\u001b[0m \u001b[0mtrain_img\u001b[0m\u001b[0;34m,\u001b[0m \u001b[0mtrain_gt_img\u001b[0m \u001b[0;32min\u001b[0m \u001b[0mtrain_data_loader\u001b[0m\u001b[0;34m:\u001b[0m\u001b[0;34m\u001b[0m\u001b[0;34m\u001b[0m\u001b[0m\n\u001b[0m\u001b[1;32m      5\u001b[0m       \u001b[0mN\u001b[0m\u001b[0;34m,\u001b[0m \u001b[0mC\u001b[0m\u001b[0;34m,\u001b[0m \u001b[0mH\u001b[0m\u001b[0;34m,\u001b[0m \u001b[0mW\u001b[0m \u001b[0;34m=\u001b[0m \u001b[0mtrain_img\u001b[0m\u001b[0;34m.\u001b[0m\u001b[0mshape\u001b[0m\u001b[0;34m\u001b[0m\u001b[0;34m\u001b[0m\u001b[0m\n\u001b[1;32m      6\u001b[0m       \u001b[0mprint\u001b[0m\u001b[0;34m(\u001b[0m\u001b[0;34m'train_img.shape:'\u001b[0m\u001b[0;34m,\u001b[0m \u001b[0mN\u001b[0m\u001b[0;34m,\u001b[0m \u001b[0mC\u001b[0m\u001b[0;34m,\u001b[0m \u001b[0mH\u001b[0m\u001b[0;34m,\u001b[0m \u001b[0mW\u001b[0m\u001b[0;34m)\u001b[0m\u001b[0;34m\u001b[0m\u001b[0;34m\u001b[0m\u001b[0m\n",
            "\u001b[0;32m/usr/local/lib/python3.7/dist-packages/torch/utils/data/dataloader.py\u001b[0m in \u001b[0;36m__next__\u001b[0;34m(self)\u001b[0m\n\u001b[1;32m    650\u001b[0m                 \u001b[0;31m# TODO(https://github.com/pytorch/pytorch/issues/76750)\u001b[0m\u001b[0;34m\u001b[0m\u001b[0;34m\u001b[0m\u001b[0;34m\u001b[0m\u001b[0m\n\u001b[1;32m    651\u001b[0m                 \u001b[0mself\u001b[0m\u001b[0;34m.\u001b[0m\u001b[0m_reset\u001b[0m\u001b[0;34m(\u001b[0m\u001b[0;34m)\u001b[0m  \u001b[0;31m# type: ignore[call-arg]\u001b[0m\u001b[0;34m\u001b[0m\u001b[0;34m\u001b[0m\u001b[0m\n\u001b[0;32m--> 652\u001b[0;31m             \u001b[0mdata\u001b[0m \u001b[0;34m=\u001b[0m \u001b[0mself\u001b[0m\u001b[0;34m.\u001b[0m\u001b[0m_next_data\u001b[0m\u001b[0;34m(\u001b[0m\u001b[0;34m)\u001b[0m\u001b[0;34m\u001b[0m\u001b[0;34m\u001b[0m\u001b[0m\n\u001b[0m\u001b[1;32m    653\u001b[0m             \u001b[0mself\u001b[0m\u001b[0;34m.\u001b[0m\u001b[0m_num_yielded\u001b[0m \u001b[0;34m+=\u001b[0m \u001b[0;36m1\u001b[0m\u001b[0;34m\u001b[0m\u001b[0;34m\u001b[0m\u001b[0m\n\u001b[1;32m    654\u001b[0m             \u001b[0;32mif\u001b[0m \u001b[0mself\u001b[0m\u001b[0;34m.\u001b[0m\u001b[0m_dataset_kind\u001b[0m \u001b[0;34m==\u001b[0m \u001b[0m_DatasetKind\u001b[0m\u001b[0;34m.\u001b[0m\u001b[0mIterable\u001b[0m \u001b[0;32mand\u001b[0m\u001b[0;31m \u001b[0m\u001b[0;31m\\\u001b[0m\u001b[0;34m\u001b[0m\u001b[0;34m\u001b[0m\u001b[0m\n",
            "\u001b[0;32m/usr/local/lib/python3.7/dist-packages/torch/utils/data/dataloader.py\u001b[0m in \u001b[0;36m_next_data\u001b[0;34m(self)\u001b[0m\n\u001b[1;32m    690\u001b[0m     \u001b[0;32mdef\u001b[0m \u001b[0m_next_data\u001b[0m\u001b[0;34m(\u001b[0m\u001b[0mself\u001b[0m\u001b[0;34m)\u001b[0m\u001b[0;34m:\u001b[0m\u001b[0;34m\u001b[0m\u001b[0;34m\u001b[0m\u001b[0m\n\u001b[1;32m    691\u001b[0m         \u001b[0mindex\u001b[0m \u001b[0;34m=\u001b[0m \u001b[0mself\u001b[0m\u001b[0;34m.\u001b[0m\u001b[0m_next_index\u001b[0m\u001b[0;34m(\u001b[0m\u001b[0;34m)\u001b[0m  \u001b[0;31m# may raise StopIteration\u001b[0m\u001b[0;34m\u001b[0m\u001b[0;34m\u001b[0m\u001b[0m\n\u001b[0;32m--> 692\u001b[0;31m         \u001b[0mdata\u001b[0m \u001b[0;34m=\u001b[0m \u001b[0mself\u001b[0m\u001b[0;34m.\u001b[0m\u001b[0m_dataset_fetcher\u001b[0m\u001b[0;34m.\u001b[0m\u001b[0mfetch\u001b[0m\u001b[0;34m(\u001b[0m\u001b[0mindex\u001b[0m\u001b[0;34m)\u001b[0m  \u001b[0;31m# may raise StopIteration\u001b[0m\u001b[0;34m\u001b[0m\u001b[0;34m\u001b[0m\u001b[0m\n\u001b[0m\u001b[1;32m    693\u001b[0m         \u001b[0;32mif\u001b[0m \u001b[0mself\u001b[0m\u001b[0;34m.\u001b[0m\u001b[0m_pin_memory\u001b[0m\u001b[0;34m:\u001b[0m\u001b[0;34m\u001b[0m\u001b[0;34m\u001b[0m\u001b[0m\n\u001b[1;32m    694\u001b[0m             \u001b[0mdata\u001b[0m \u001b[0;34m=\u001b[0m \u001b[0m_utils\u001b[0m\u001b[0;34m.\u001b[0m\u001b[0mpin_memory\u001b[0m\u001b[0;34m.\u001b[0m\u001b[0mpin_memory\u001b[0m\u001b[0;34m(\u001b[0m\u001b[0mdata\u001b[0m\u001b[0;34m,\u001b[0m \u001b[0mself\u001b[0m\u001b[0;34m.\u001b[0m\u001b[0m_pin_memory_device\u001b[0m\u001b[0;34m)\u001b[0m\u001b[0;34m\u001b[0m\u001b[0;34m\u001b[0m\u001b[0m\n",
            "\u001b[0;32m/usr/local/lib/python3.7/dist-packages/torch/utils/data/_utils/fetch.py\u001b[0m in \u001b[0;36mfetch\u001b[0;34m(self, possibly_batched_index)\u001b[0m\n\u001b[1;32m     47\u001b[0m     \u001b[0;32mdef\u001b[0m \u001b[0mfetch\u001b[0m\u001b[0;34m(\u001b[0m\u001b[0mself\u001b[0m\u001b[0;34m,\u001b[0m \u001b[0mpossibly_batched_index\u001b[0m\u001b[0;34m)\u001b[0m\u001b[0;34m:\u001b[0m\u001b[0;34m\u001b[0m\u001b[0;34m\u001b[0m\u001b[0m\n\u001b[1;32m     48\u001b[0m         \u001b[0;32mif\u001b[0m \u001b[0mself\u001b[0m\u001b[0;34m.\u001b[0m\u001b[0mauto_collation\u001b[0m\u001b[0;34m:\u001b[0m\u001b[0;34m\u001b[0m\u001b[0;34m\u001b[0m\u001b[0m\n\u001b[0;32m---> 49\u001b[0;31m             \u001b[0mdata\u001b[0m \u001b[0;34m=\u001b[0m \u001b[0;34m[\u001b[0m\u001b[0mself\u001b[0m\u001b[0;34m.\u001b[0m\u001b[0mdataset\u001b[0m\u001b[0;34m[\u001b[0m\u001b[0midx\u001b[0m\u001b[0;34m]\u001b[0m \u001b[0;32mfor\u001b[0m \u001b[0midx\u001b[0m \u001b[0;32min\u001b[0m \u001b[0mpossibly_batched_index\u001b[0m\u001b[0;34m]\u001b[0m\u001b[0;34m\u001b[0m\u001b[0;34m\u001b[0m\u001b[0m\n\u001b[0m\u001b[1;32m     50\u001b[0m         \u001b[0;32melse\u001b[0m\u001b[0;34m:\u001b[0m\u001b[0;34m\u001b[0m\u001b[0;34m\u001b[0m\u001b[0m\n\u001b[1;32m     51\u001b[0m             \u001b[0mdata\u001b[0m \u001b[0;34m=\u001b[0m \u001b[0mself\u001b[0m\u001b[0;34m.\u001b[0m\u001b[0mdataset\u001b[0m\u001b[0;34m[\u001b[0m\u001b[0mpossibly_batched_index\u001b[0m\u001b[0;34m]\u001b[0m\u001b[0;34m\u001b[0m\u001b[0;34m\u001b[0m\u001b[0m\n",
            "\u001b[0;32m/usr/local/lib/python3.7/dist-packages/torch/utils/data/_utils/fetch.py\u001b[0m in \u001b[0;36m<listcomp>\u001b[0;34m(.0)\u001b[0m\n\u001b[1;32m     47\u001b[0m     \u001b[0;32mdef\u001b[0m \u001b[0mfetch\u001b[0m\u001b[0;34m(\u001b[0m\u001b[0mself\u001b[0m\u001b[0;34m,\u001b[0m \u001b[0mpossibly_batched_index\u001b[0m\u001b[0;34m)\u001b[0m\u001b[0;34m:\u001b[0m\u001b[0;34m\u001b[0m\u001b[0;34m\u001b[0m\u001b[0m\n\u001b[1;32m     48\u001b[0m         \u001b[0;32mif\u001b[0m \u001b[0mself\u001b[0m\u001b[0;34m.\u001b[0m\u001b[0mauto_collation\u001b[0m\u001b[0;34m:\u001b[0m\u001b[0;34m\u001b[0m\u001b[0;34m\u001b[0m\u001b[0m\n\u001b[0;32m---> 49\u001b[0;31m             \u001b[0mdata\u001b[0m \u001b[0;34m=\u001b[0m \u001b[0;34m[\u001b[0m\u001b[0mself\u001b[0m\u001b[0;34m.\u001b[0m\u001b[0mdataset\u001b[0m\u001b[0;34m[\u001b[0m\u001b[0midx\u001b[0m\u001b[0;34m]\u001b[0m \u001b[0;32mfor\u001b[0m \u001b[0midx\u001b[0m \u001b[0;32min\u001b[0m \u001b[0mpossibly_batched_index\u001b[0m\u001b[0;34m]\u001b[0m\u001b[0;34m\u001b[0m\u001b[0;34m\u001b[0m\u001b[0m\n\u001b[0m\u001b[1;32m     50\u001b[0m         \u001b[0;32melse\u001b[0m\u001b[0;34m:\u001b[0m\u001b[0;34m\u001b[0m\u001b[0;34m\u001b[0m\u001b[0m\n\u001b[1;32m     51\u001b[0m             \u001b[0mdata\u001b[0m \u001b[0;34m=\u001b[0m \u001b[0mself\u001b[0m\u001b[0;34m.\u001b[0m\u001b[0mdataset\u001b[0m\u001b[0;34m[\u001b[0m\u001b[0mpossibly_batched_index\u001b[0m\u001b[0;34m]\u001b[0m\u001b[0;34m\u001b[0m\u001b[0;34m\u001b[0m\u001b[0m\n",
            "\u001b[0;32m<ipython-input-51-5828ccd6b4b6>\u001b[0m in \u001b[0;36m__getitem__\u001b[0;34m(self, index)\u001b[0m\n\u001b[1;32m     69\u001b[0m \u001b[0;34m\u001b[0m\u001b[0m\n\u001b[1;32m     70\u001b[0m         \u001b[0;31m# image preprocessing\u001b[0m\u001b[0;34m\u001b[0m\u001b[0;34m\u001b[0m\u001b[0;34m\u001b[0m\u001b[0m\n\u001b[0;32m---> 71\u001b[0;31m         \u001b[0mimg\u001b[0m \u001b[0;34m=\u001b[0m \u001b[0mimg\u001b[0m\u001b[0;34m.\u001b[0m\u001b[0mtranspose\u001b[0m\u001b[0;34m(\u001b[0m\u001b[0;36m2\u001b[0m\u001b[0;34m,\u001b[0m \u001b[0;36m0\u001b[0m\u001b[0;34m,\u001b[0m \u001b[0;36m1\u001b[0m\u001b[0;34m)\u001b[0m \u001b[0;31m# HWC -> CHW\u001b[0m\u001b[0;34m\u001b[0m\u001b[0;34m\u001b[0m\u001b[0m\n\u001b[0m\u001b[1;32m     72\u001b[0m         \u001b[0mlbl\u001b[0m\u001b[0;34m[\u001b[0m\u001b[0mlbl\u001b[0m \u001b[0;34m==\u001b[0m \u001b[0;36m255\u001b[0m\u001b[0;34m]\u001b[0m \u001b[0;34m=\u001b[0m \u001b[0;34m-\u001b[0m\u001b[0;36m1.\u001b[0m\u001b[0;34m\u001b[0m\u001b[0;34m\u001b[0m\u001b[0m\n\u001b[1;32m     73\u001b[0m \u001b[0;34m\u001b[0m\u001b[0m\n",
            "\u001b[0;31mTypeError\u001b[0m: transpose() received an invalid combination of arguments - got (int, int, int), but expected one of:\n * (int dim0, int dim1)\n * (name dim0, name dim1)\n"
          ]
        }
      ]
    },
    {
      "cell_type": "code",
      "source": [
        "# segmentation : plot image\n",
        "\n",
        "with open(\"/content/data/VOCdevkit/VOC2012/ImageSets/Segmentation/val.txt\", 'r') as f:\n",
        "  lines = f.readlines()\n",
        "for i in range(len(lines)):\n",
        "  lines[i] =  lines[i].strip('\\n')\n",
        "test_jpg = lines[0] + '.jpg'\n",
        "test_image = PIL.Image.open(os.path.join(ROOT_DIR, 'VOCdevkit/VOC2012', \"JPEGImages\", test_jpg))\n",
        "\n",
        "test_seg = model(test_image)\n",
        "\n",
        "plt.figure(figsize=(8, 8))\n",
        "plt.imshow(test_seg)\n",
        "plt.show()"
      ],
      "metadata": {
        "id": "vNECjHnq_j_O"
      },
      "execution_count": null,
      "outputs": []
    },
    {
      "cell_type": "code",
      "source": [
        "# validation IoU\n",
        "\n"
      ],
      "metadata": {
        "id": "6Nm-3lki_d_4"
      },
      "execution_count": null,
      "outputs": []
    }
  ]
}