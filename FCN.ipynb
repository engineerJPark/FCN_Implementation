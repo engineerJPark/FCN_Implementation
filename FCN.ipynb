{
  "nbformat": 4,
  "nbformat_minor": 0,
  "metadata": {
    "colab": {
      "name": "FCN.ipynb",
      "provenance": [],
      "collapsed_sections": [],
      "authorship_tag": "ABX9TyMCpnv/KolEG5qpR2y7sL6P",
      "include_colab_link": true
    },
    "kernelspec": {
      "name": "python3",
      "display_name": "Python 3"
    },
    "language_info": {
      "name": "python"
    }
  },
  "cells": [
    {
      "cell_type": "markdown",
      "metadata": {
        "id": "view-in-github",
        "colab_type": "text"
      },
      "source": [
        "<a href=\"https://colab.research.google.com/github/engineerJPark/FCN_Implementation/blob/main/FCN.ipynb\" target=\"_parent\"><img src=\"https://colab.research.google.com/assets/colab-badge.svg\" alt=\"Open In Colab\"/></a>"
      ]
    },
    {
      "cell_type": "markdown",
      "source": [
        "# TODO\n",
        "\n",
        "https://pytorch.org/tutorials/beginner/basics/data_tutorial.html\n",
        "\n",
        "- transform 처리\n",
        "- image 크기 안줄이고 1 batch로 처리\n",
        "- dataset __getitem__() 수정\n",
        "\n"
      ],
      "metadata": {
        "id": "9UfbPl0sNqoI"
      }
    },
    {
      "cell_type": "code",
      "execution_count": 4,
      "metadata": {
        "id": "G6jBAYOT35FG"
      },
      "outputs": [],
      "source": [
        "import numpy as np\n",
        "import copy\n",
        "import torch\n",
        "import torch.nn as nn\n",
        "import torch.nn.functional as F\n",
        "import torch.optim as optim\n",
        "import torchvision\n",
        "from torchvision import transforms\n",
        "from torchvision.models import resnet18, ResNet18_Weights\n",
        "\n",
        "from torch.utils.data import DataLoader\n",
        "from torch.utils.data import sampler\n",
        "import torchvision.datasets as dset\n",
        "\n",
        "\n",
        "# for plotting\n",
        "import matplotlib.pyplot as plt\n",
        "%matplotlib inline\n",
        "plt.rcParams['figure.figsize'] = (10.0, 8.0) # set default size of plots\n",
        "plt.rcParams['image.interpolation'] = 'nearest'\n",
        "plt.rcParams['image.cmap'] = 'gray'\n",
        "\n",
        "import collections\n",
        "import cv2\n",
        "import PIL\n",
        "from PIL import Image\n",
        "import os\n",
        "import shutil\n",
        "import random\n",
        "import xml.etree.ElementTree as ET\n",
        "\n",
        "\n",
        "if torch.cuda.is_available():\n",
        "  device = torch.device('cuda:0')\n",
        "else:\n",
        "  device = torch.device('cpu')\n",
        "\n",
        "torch.manual_seed(1)\n",
        "if device == 'cuda:0':\n",
        "    torch.cuda.manual_seed_all(1)\n",
        "\n",
        "resnet_pretrained = resnet18(weights=ResNet18_Weights.DEFAULT)\n",
        "# print(resnet_pretrained)"
      ]
    },
    {
      "cell_type": "code",
      "source": [
        "# dataloader on PASCAL VOC. use name as train_set, val_set, test_set\n",
        "# segmentation label 0 = background, 1 ~ 20 is object, 255 should be neglible\n",
        "\n",
        "!mkdir ./data\n",
        "!wget http://host.robots.ox.ac.uk/pascal/VOC/voc2012/VOCtrainval_11-May-2012.tar\n",
        "!tar -xvf VOCtrainval_11-May-2012.tar -C /content/data"
      ],
      "metadata": {
        "id": "UC0-IkMU785p"
      },
      "execution_count": null,
      "outputs": []
    },
    {
      "cell_type": "code",
      "source": [
        "VOC_ROOT_DIR =\"/content/data/VOCdevkit/VOC2012/\"\n",
        "ANNO_DIR = os.path.join(VOC_ROOT_DIR, \"Annotations\")\n",
        "IMAGE_DIR = os.path.join(VOC_ROOT_DIR, \"JPEGImages\")\n",
        "\n",
        "# xml_files = os.listdir(ANNO_DIR)\n",
        "# print(xml_files[:5]); print(len(xml_files))"
      ],
      "metadata": {
        "id": "c9kmBE7f8IqR",
        "colab": {
          "base_uri": "https://localhost:8080/"
        },
        "outputId": "a85b901d-df8b-47f6-cc0a-37e70dbcf45a"
      },
      "execution_count": 11,
      "outputs": [
        {
          "output_type": "stream",
          "name": "stdout",
          "text": [
            "['2010_001535.xml', '2008_005101.xml', '2010_002660.xml', '2010_003632.xml', '2010_004848.xml']\n",
            "17125\n"
          ]
        }
      ]
    },
    {
      "cell_type": "code",
      "source": [
        "class VOCClassSegBase(torch.utils.data.Dataset):\n",
        "\n",
        "    class_names = np.array([\n",
        "        'background',\n",
        "        'aeroplane',\n",
        "        'bicycle',\n",
        "        'bird',\n",
        "        'boat',\n",
        "        'bottle',\n",
        "        'bus',\n",
        "        'car',\n",
        "        'cat',\n",
        "        'chair',\n",
        "        'cow',\n",
        "        'diningtable',\n",
        "        'dog',\n",
        "        'horse',\n",
        "        'motorbike',\n",
        "        'person',\n",
        "        'potted plant',\n",
        "        'sheep',\n",
        "        'sofa',\n",
        "        'train',\n",
        "        'tv/monitor',\n",
        "    ])\n",
        "    mean_bgr = np.array([104.00698793, 116.66876762, 122.67891434])\n",
        "\n",
        "    def __init__(self, root='/content/data', split='train', transform=None):\n",
        "        self.root = root\n",
        "        self.split = split\n",
        "        self.transform = transform\n",
        "\n",
        "        dataset_dir = os.path.join(self.root, 'VOCdevkit/VOC2012')\n",
        "        self.files = collections.defaultdict(list)\n",
        "        for split in ['train', 'val']:\n",
        "            imgsets_file = os.path.join(\n",
        "                dataset_dir, 'ImageSets/Segmentation/%s.txt' % split)\n",
        "            for did in open(imgsets_file):\n",
        "                did = did.strip()\n",
        "                img_file = os.path.join(dataset_dir, 'JPEGImages/%s.jpg' % did)\n",
        "                lbl_file = os.path.join(\n",
        "                    dataset_dir, 'SegmentationClass/%s.png' % did)\n",
        "                self.files[split].append({\n",
        "                    'img': img_file,\n",
        "                    'lbl': lbl_file,\n",
        "                })\n",
        "\n",
        "    def __len__(self):\n",
        "        return len(self.files[self.split])\n",
        "\n",
        "    def __getitem__(self, index):\n",
        "        data_file = self.files[self.split][index]\n",
        "        \n",
        "        # load image\n",
        "        img_file = data_file['img']\n",
        "        img = PIL.Image.open(img_file)\n",
        "        img = np.array(img, dtype=np.uint8)\n",
        "\n",
        "        # load label\n",
        "        lbl_file = data_file['lbl']\n",
        "        lbl = PIL.Image.open(lbl_file)\n",
        "        lbl = np.array(lbl, dtype=np.int32)\n",
        "\n",
        "        # image preprocessing\n",
        "        img = img[:, :, ::-1]  # BGR -> RGB\n",
        "        img = img.astype(np.float64)\n",
        "        img -= self.mean_bgr\n",
        "        # img = img.transpose(2, 0, 1) # HWC -> CHW\n",
        "        # img = torch.from_numpy(img).float()\n",
        "        print('image size :', img.shape)\n",
        "        # label preprocessing\n",
        "        lbl[lbl == 255] = -1.\n",
        "        # lbl = torch.from_numpy(lbl).long()\n",
        "        \n",
        "        if self.transform is not None:\n",
        "            return self.transform(img), lbl\n",
        "        else:\n",
        "            return img, lbl"
      ],
      "metadata": {
        "id": "86onqLojXqMd"
      },
      "execution_count": 12,
      "outputs": []
    },
    {
      "cell_type": "code",
      "source": [
        "transform = transforms.Compose([\n",
        "    transforms.ToTensor(),\n",
        "    transforms.Resize((256,256)),\n",
        "    # transforms.Normalize((0.5,0.5,0.5),(0.5,0.5,0.5))\n",
        "])\n",
        "\n",
        "# # test\n",
        "# sample_img = Image.open('/content/data/VOCdevkit/VOC2012/JPEGImages/2007_000032.jpg')\n",
        "\n",
        "# plt.figure(figsize=(8, 8))\n",
        "# plt.imshow(sample_img)\n",
        "# plt.show()\n",
        "\n",
        "# transformed_img = transform(sample_img)\n",
        "\n",
        "# plt.figure(figsize=(8, 8))\n",
        "# plt.imshow(transformed_img.permute(1,2,0))\n",
        "# plt.show()"
      ],
      "metadata": {
        "id": "5nQ4bd5iijFu"
      },
      "execution_count": 20,
      "outputs": []
    },
    {
      "cell_type": "code",
      "source": [
        "# https://pytorch.org/tutorials/beginner/basics/data_tutorial.html\n",
        "# https://blog.promedius.ai/pytorch_dataloader_1/\n",
        "\n",
        "# train_data = torchvision.datasets.ImageFolder(root=\"/content/train_data\", transform=transform)\n",
        "# train_gt_data = torchvision.datasets.ImageFolder(root=\"/content/train_gt_data\", transform=transform)\n",
        "\n",
        "train_data = VOCClassSegBase(root='/content/data', split='train', transform=transform)\n",
        "\n",
        "train_data_loader = DataLoader(dataset=train_data, batch_size = 1,\n",
        "                               drop_last=True)"
      ],
      "metadata": {
        "id": "mIv7VSEcq8g6"
      },
      "execution_count": 21,
      "outputs": []
    },
    {
      "cell_type": "code",
      "source": [
        "# Bilinear weights deconvolution Algorithm 알아보기\n",
        "def bilinear_kernel_init(Cin, Cout, kernel_size):\n",
        "  factor = (kernel_size + 1) // 2\n",
        "  if kernel_size % 2 == 1:\n",
        "    center = (kernel_size + 1) // 2 - 1\n",
        "  else:\n",
        "    center = (kernel_size + 1) // 2 - 0.5\n",
        "\n",
        "  og = (torch.arange(kernel_size).reshape(-1,1), torch.arange(kernel_size).reshape(1,-1))\n",
        "  filter = (1 - torch.abs(og[0] - center) / factor) * (1 - torch.abs(og[1] - center) / factor)\n",
        "\n",
        "  weight = torch.zeros((Cin, Cout, kernel_size, kernel_size))\n",
        "  weight[range(Cin), range(Cout), :, :] = filter\n",
        "  return weight"
      ],
      "metadata": {
        "id": "C-iNBBNGc1lr"
      },
      "execution_count": 15,
      "outputs": []
    },
    {
      "cell_type": "code",
      "source": [
        "class FCN18(nn.Module):\n",
        "  def __init__(self, class_n): # class 20 + 1(bakcground)\n",
        "    super().__init__()\n",
        "    self.downsample1 = nn.Sequential( # 1/2 of the input\n",
        "        resnet_pretrained.conv1,\n",
        "        resnet_pretrained.bn1,\n",
        "        resnet_pretrained.relu,\n",
        "        resnet_pretrained.maxpool\n",
        "    )\n",
        "    self.downsample2 = resnet_pretrained.layer1 # 1/4 of the input\n",
        "    self.downsample3 = resnet_pretrained.layer2 # 1/8 of the input, 여기서 1x1 거친것 하나 추출\n",
        "    self.downsample4 = resnet_pretrained.layer3 # 1/16 of the input, 여기서 1x1 거친것 하나 추출\n",
        "    self.downsample5 = resnet_pretrained.layer4 # 1/32 of the input, 여기서 1x1 거친것 하나 추출\n",
        "\n",
        "    self.fully_conv_pool3 = nn.Conv2d(128, class_n, kernel_size=1) # get class score for each pixel\n",
        "    nn.init.xavier_normal_(self.fully_conv_pool3.weight)\n",
        "\n",
        "    self.fully_conv_pool4 = nn.Conv2d(256, class_n, kernel_size=1) # get class score for each pixel\n",
        "    nn.init.xavier_normal_(self.fully_conv_pool4.weight)\n",
        "\n",
        "    self.fully_conv_pool5 = nn.Conv2d(512, class_n, kernel_size=1) # get class score for each pixel\n",
        "    nn.init.xavier_normal_(self.fully_conv_pool5.weight)\n",
        "    \n",
        "    # 보통 stride s, padding s/2, kernelsize 2s -> s배 만큼 이미지가 커진다.\n",
        "    self.upsample_make_16s = nn.ConvTranspose2d(class_n, class_n, kernel_size=4, padding=1, stride=2, bias=False) # to 1/16\n",
        "    self.upsample_make_16s.weight.data.copy_(bilinear_kernel_init(class_n, class_n, 4))\n",
        "\n",
        "    self.upsample_make_8s = nn.ConvTranspose2d(class_n, class_n, kernel_size=4, padding=1, stride=2, bias=False) # to 1/8\n",
        "    self.upsample_make_8s.weight.data.copy_(bilinear_kernel_init(class_n, class_n, 4))\n",
        "    \n",
        "    self.upsample_to_score = nn.ConvTranspose2d(class_n, class_n, kernel_size=16, padding=4, stride=8) # to 1\n",
        "    self.upsample_to_score.weight.data.copy_(bilinear_kernel_init(class_n, class_n, 16))\n",
        "    for param in self.upsample_to_score.parameters(): # freeze the last layer\n",
        "      param.requires_grad = False\n",
        "\n",
        "\n",
        "  def forward(self, x):\n",
        "    x = self.downsample1(x)\n",
        "    x = self.downsample2(x)\n",
        "    x = self.downsample3(x)\n",
        "    pool3_score = self.fully_conv_pool3(x)\n",
        "    x = self.downsample4(x)\n",
        "    pool4_score = self.fully_conv_pool4(x)\n",
        "    x = self.downsample5(x)\n",
        "    pool5_score = self.fully_conv_pool5(x)\n",
        "\n",
        "    pool4_2x_conv7 = pool4_score + self.upsample_make_16s(pool5_score)\n",
        "    pool3_2x_pool4_4x_conv7 = pool3_score + self.upsample_make_8s(pool4_2x_conv7)\n",
        "\n",
        "    out = self.upsample_to_score(pool3_2x_pool4_4x_conv7)\n",
        "\n",
        "    return out"
      ],
      "metadata": {
        "id": "SSp7WMlbCOdb"
      },
      "execution_count": 16,
      "outputs": []
    },
    {
      "cell_type": "code",
      "source": [
        "epochs = 10\n",
        "lr = 10e-4\n",
        "weight_decay = 2e-4\n",
        "momentum = 0.9\n",
        "batch_size = 64\n",
        "\n",
        "model = FCN18(3)\n",
        "optimizer = optim.SGD(model.parameters(), lr=lr, momentum=momentum, weight_decay=weight_decay)\n",
        "criterion = nn.CrossEntropyLoss(ignore_index= 255)"
      ],
      "metadata": {
        "id": "duCh3xvTs8rE"
      },
      "execution_count": 17,
      "outputs": []
    },
    {
      "cell_type": "code",
      "source": [
        "# train code\n",
        "def train(model, epochs, optimizer, criterion):\n",
        "  for epoch in range(epochs):\n",
        "    for train_img, train_gt_img in train_data_loader:\n",
        "      N, C, H, W = train_img.shape\n",
        "      print('train_img.shape:', N, C, H, W)\n",
        "      print('train_gt_img.shape:', train_gt_img.shape)\n",
        "      # print(train_gt_img[0][0][150][150])\n",
        "\n",
        "      N_t, H_t, W_t = train_gt_img.shape\n",
        "      \n",
        "      train_img = train_img.to(device)\n",
        "      train_gt_img = train_gt_img.to(device)\n",
        "\n",
        "      score_img = model(train_img.to(torch.float))\n",
        "      score_img.permute(0,2,3,1).reshape(N*H*W, C)\n",
        "      train_gt_img.reshape(N_t*H_t*W_t,)\n",
        "\n",
        "      loss = criterion(score_img, train_gt_img)\n",
        "\n",
        "      optimizer.zero_grad()\n",
        "      optimizer.step()\n",
        "      loss.backward()\n",
        "\n",
        "    print(\"epoch %d, loss : %f \"%(epoch + 1, loss))\n",
        "  print(\"Training End\")\n",
        "\n",
        "train(model, epochs, optimizer, criterion)"
      ],
      "metadata": {
        "id": "e6YIvDDO_boV",
        "colab": {
          "base_uri": "https://localhost:8080/",
          "height": 418
        },
        "outputId": "87026ef0-8dde-4ff8-99d6-01183bf03fbe"
      },
      "execution_count": 23,
      "outputs": [
        {
          "output_type": "stream",
          "name": "stdout",
          "text": [
            "image size : (281, 500, 3)\n",
            "train_img.shape: 1 3 256 256\n",
            "train_gt_img.shape: torch.Size([1, 281, 500])\n"
          ]
        },
        {
          "output_type": "error",
          "ename": "RuntimeError",
          "evalue": "ignored",
          "traceback": [
            "\u001b[0;31m---------------------------------------------------------------------------\u001b[0m",
            "\u001b[0;31mRuntimeError\u001b[0m                              Traceback (most recent call last)",
            "\u001b[0;32m<ipython-input-23-e133676f029d>\u001b[0m in \u001b[0;36m<module>\u001b[0;34m()\u001b[0m\n\u001b[1;32m     26\u001b[0m   \u001b[0mprint\u001b[0m\u001b[0;34m(\u001b[0m\u001b[0;34m\"Training End\"\u001b[0m\u001b[0;34m)\u001b[0m\u001b[0;34m\u001b[0m\u001b[0;34m\u001b[0m\u001b[0m\n\u001b[1;32m     27\u001b[0m \u001b[0;34m\u001b[0m\u001b[0m\n\u001b[0;32m---> 28\u001b[0;31m \u001b[0mtrain\u001b[0m\u001b[0;34m(\u001b[0m\u001b[0mmodel\u001b[0m\u001b[0;34m,\u001b[0m \u001b[0mepochs\u001b[0m\u001b[0;34m,\u001b[0m \u001b[0moptimizer\u001b[0m\u001b[0;34m,\u001b[0m \u001b[0mcriterion\u001b[0m\u001b[0;34m)\u001b[0m\u001b[0;34m\u001b[0m\u001b[0;34m\u001b[0m\u001b[0m\n\u001b[0m",
            "\u001b[0;32m<ipython-input-23-e133676f029d>\u001b[0m in \u001b[0;36mtrain\u001b[0;34m(model, epochs, optimizer, criterion)\u001b[0m\n\u001b[1;32m     17\u001b[0m       \u001b[0mtrain_gt_img\u001b[0m\u001b[0;34m.\u001b[0m\u001b[0mreshape\u001b[0m\u001b[0;34m(\u001b[0m\u001b[0mN_t\u001b[0m\u001b[0;34m*\u001b[0m\u001b[0mH_t\u001b[0m\u001b[0;34m*\u001b[0m\u001b[0mW_t\u001b[0m\u001b[0;34m,\u001b[0m\u001b[0;34m)\u001b[0m\u001b[0;34m\u001b[0m\u001b[0;34m\u001b[0m\u001b[0m\n\u001b[1;32m     18\u001b[0m \u001b[0;34m\u001b[0m\u001b[0m\n\u001b[0;32m---> 19\u001b[0;31m       \u001b[0mloss\u001b[0m \u001b[0;34m=\u001b[0m \u001b[0mcriterion\u001b[0m\u001b[0;34m(\u001b[0m\u001b[0mscore_img\u001b[0m\u001b[0;34m,\u001b[0m \u001b[0mtrain_gt_img\u001b[0m\u001b[0;34m)\u001b[0m\u001b[0;34m\u001b[0m\u001b[0;34m\u001b[0m\u001b[0m\n\u001b[0m\u001b[1;32m     20\u001b[0m \u001b[0;34m\u001b[0m\u001b[0m\n\u001b[1;32m     21\u001b[0m       \u001b[0moptimizer\u001b[0m\u001b[0;34m.\u001b[0m\u001b[0mzero_grad\u001b[0m\u001b[0;34m(\u001b[0m\u001b[0;34m)\u001b[0m\u001b[0;34m\u001b[0m\u001b[0;34m\u001b[0m\u001b[0m\n",
            "\u001b[0;32m/usr/local/lib/python3.7/dist-packages/torch/nn/modules/module.py\u001b[0m in \u001b[0;36m_call_impl\u001b[0;34m(self, *input, **kwargs)\u001b[0m\n\u001b[1;32m   1128\u001b[0m         if not (self._backward_hooks or self._forward_hooks or self._forward_pre_hooks or _global_backward_hooks\n\u001b[1;32m   1129\u001b[0m                 or _global_forward_hooks or _global_forward_pre_hooks):\n\u001b[0;32m-> 1130\u001b[0;31m             \u001b[0;32mreturn\u001b[0m \u001b[0mforward_call\u001b[0m\u001b[0;34m(\u001b[0m\u001b[0;34m*\u001b[0m\u001b[0minput\u001b[0m\u001b[0;34m,\u001b[0m \u001b[0;34m**\u001b[0m\u001b[0mkwargs\u001b[0m\u001b[0;34m)\u001b[0m\u001b[0;34m\u001b[0m\u001b[0;34m\u001b[0m\u001b[0m\n\u001b[0m\u001b[1;32m   1131\u001b[0m         \u001b[0;31m# Do not call functions when jit is used\u001b[0m\u001b[0;34m\u001b[0m\u001b[0;34m\u001b[0m\u001b[0;34m\u001b[0m\u001b[0m\n\u001b[1;32m   1132\u001b[0m         \u001b[0mfull_backward_hooks\u001b[0m\u001b[0;34m,\u001b[0m \u001b[0mnon_full_backward_hooks\u001b[0m \u001b[0;34m=\u001b[0m \u001b[0;34m[\u001b[0m\u001b[0;34m]\u001b[0m\u001b[0;34m,\u001b[0m \u001b[0;34m[\u001b[0m\u001b[0;34m]\u001b[0m\u001b[0;34m\u001b[0m\u001b[0;34m\u001b[0m\u001b[0m\n",
            "\u001b[0;32m/usr/local/lib/python3.7/dist-packages/torch/nn/modules/loss.py\u001b[0m in \u001b[0;36mforward\u001b[0;34m(self, input, target)\u001b[0m\n\u001b[1;32m   1164\u001b[0m         return F.cross_entropy(input, target, weight=self.weight,\n\u001b[1;32m   1165\u001b[0m                                \u001b[0mignore_index\u001b[0m\u001b[0;34m=\u001b[0m\u001b[0mself\u001b[0m\u001b[0;34m.\u001b[0m\u001b[0mignore_index\u001b[0m\u001b[0;34m,\u001b[0m \u001b[0mreduction\u001b[0m\u001b[0;34m=\u001b[0m\u001b[0mself\u001b[0m\u001b[0;34m.\u001b[0m\u001b[0mreduction\u001b[0m\u001b[0;34m,\u001b[0m\u001b[0;34m\u001b[0m\u001b[0;34m\u001b[0m\u001b[0m\n\u001b[0;32m-> 1166\u001b[0;31m                                label_smoothing=self.label_smoothing)\n\u001b[0m\u001b[1;32m   1167\u001b[0m \u001b[0;34m\u001b[0m\u001b[0m\n\u001b[1;32m   1168\u001b[0m \u001b[0;34m\u001b[0m\u001b[0m\n",
            "\u001b[0;32m/usr/local/lib/python3.7/dist-packages/torch/nn/functional.py\u001b[0m in \u001b[0;36mcross_entropy\u001b[0;34m(input, target, weight, size_average, ignore_index, reduce, reduction, label_smoothing)\u001b[0m\n\u001b[1;32m   3012\u001b[0m     \u001b[0;32mif\u001b[0m \u001b[0msize_average\u001b[0m \u001b[0;32mis\u001b[0m \u001b[0;32mnot\u001b[0m \u001b[0;32mNone\u001b[0m \u001b[0;32mor\u001b[0m \u001b[0mreduce\u001b[0m \u001b[0;32mis\u001b[0m \u001b[0;32mnot\u001b[0m \u001b[0;32mNone\u001b[0m\u001b[0;34m:\u001b[0m\u001b[0;34m\u001b[0m\u001b[0;34m\u001b[0m\u001b[0m\n\u001b[1;32m   3013\u001b[0m         \u001b[0mreduction\u001b[0m \u001b[0;34m=\u001b[0m \u001b[0m_Reduction\u001b[0m\u001b[0;34m.\u001b[0m\u001b[0mlegacy_get_string\u001b[0m\u001b[0;34m(\u001b[0m\u001b[0msize_average\u001b[0m\u001b[0;34m,\u001b[0m \u001b[0mreduce\u001b[0m\u001b[0;34m)\u001b[0m\u001b[0;34m\u001b[0m\u001b[0;34m\u001b[0m\u001b[0m\n\u001b[0;32m-> 3014\u001b[0;31m     \u001b[0;32mreturn\u001b[0m \u001b[0mtorch\u001b[0m\u001b[0;34m.\u001b[0m\u001b[0m_C\u001b[0m\u001b[0;34m.\u001b[0m\u001b[0m_nn\u001b[0m\u001b[0;34m.\u001b[0m\u001b[0mcross_entropy_loss\u001b[0m\u001b[0;34m(\u001b[0m\u001b[0minput\u001b[0m\u001b[0;34m,\u001b[0m \u001b[0mtarget\u001b[0m\u001b[0;34m,\u001b[0m \u001b[0mweight\u001b[0m\u001b[0;34m,\u001b[0m \u001b[0m_Reduction\u001b[0m\u001b[0;34m.\u001b[0m\u001b[0mget_enum\u001b[0m\u001b[0;34m(\u001b[0m\u001b[0mreduction\u001b[0m\u001b[0;34m)\u001b[0m\u001b[0;34m,\u001b[0m \u001b[0mignore_index\u001b[0m\u001b[0;34m,\u001b[0m \u001b[0mlabel_smoothing\u001b[0m\u001b[0;34m)\u001b[0m\u001b[0;34m\u001b[0m\u001b[0;34m\u001b[0m\u001b[0m\n\u001b[0m\u001b[1;32m   3015\u001b[0m \u001b[0;34m\u001b[0m\u001b[0m\n\u001b[1;32m   3016\u001b[0m \u001b[0;34m\u001b[0m\u001b[0m\n",
            "\u001b[0;31mRuntimeError\u001b[0m: size mismatch (got input: [1, 3, 256, 256] , target: [1, 281, 500]"
          ]
        }
      ]
    },
    {
      "cell_type": "code",
      "source": [
        "# segmentation test code \n",
        "\n",
        "with open(\"/content/data/VOCdevkit/VOC2012/ImageSets/Segmentation/val.txt\", 'r') as f:\n",
        "  lines = f.readlines()\n",
        "for i in range(len(lines)):\n",
        "  lines[i] =  lines[i].strip('\\n')\n",
        "test_jpg = lines[0] + '.jpg'\n",
        "test_image = Image.open(os.path.join(VOC_ROOT_DIR, \"JPEGImages\", test_jpg))\n",
        "\n",
        "test_seg = model(test_image)\n",
        "\n",
        "plt.figure(figsize=(8, 8))\n",
        "plt.imshow(test_seg)\n",
        "plt.show()"
      ],
      "metadata": {
        "id": "vNECjHnq_j_O"
      },
      "execution_count": null,
      "outputs": []
    },
    {
      "cell_type": "code",
      "source": [
        "# validation\n",
        "\n"
      ],
      "metadata": {
        "id": "6Nm-3lki_d_4"
      },
      "execution_count": null,
      "outputs": []
    },
    {
      "cell_type": "code",
      "source": [
        "# visualization\n",
        "\n"
      ],
      "metadata": {
        "id": "PRuxKgYw_ewV"
      },
      "execution_count": null,
      "outputs": []
    }
  ]
}